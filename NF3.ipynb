{
 "metadata": {
  "language_info": {
   "codemirror_mode": {
    "name": "ipython",
    "version": 3
   },
   "file_extension": ".py",
   "mimetype": "text/x-python",
   "name": "python",
   "nbconvert_exporter": "python",
   "pygments_lexer": "ipython3",
   "version": "3.8.5"
  },
  "orig_nbformat": 2,
  "kernelspec": {
   "name": "python385jvsc74a57bd0b3ba2566441a7c06988d0923437866b63cedc61552a5af99d1f4fb67d367b25f",
   "display_name": "Python 3.8.5 64-bit ('base': conda)"
  }
 },
 "nbformat": 4,
 "nbformat_minor": 2,
 "cells": [
  {
   "cell_type": "code",
   "execution_count": 1,
   "metadata": {},
   "outputs": [],
   "source": [
    "import sqlite3\n",
    "import numpy as np\n",
    "import pandas as pd\n",
    "import time\n",
    "import ipywidgets as widgets\n"
   ]
  },
  {
   "cell_type": "code",
   "execution_count": 2,
   "metadata": {},
   "outputs": [
    {
     "output_type": "stream",
     "name": "stdout",
     "text": [
      "['Vorname', 'Nachname', 'Land', 'Datum', 'Strasse', 'Ort', 'Hausnummer', 'Person', 'Adresse']\n"
     ]
    }
   ],
   "source": [
    "conn = sqlite3.connect('Normalform3.db')\n",
    "cur = conn.cursor()\n",
    "\n",
    "def tables_in_sqlite_db(conn):\n",
    "    cursor = conn.execute(\"SELECT name FROM sqlite_master WHERE type='table';\")\n",
    "    tables = [\n",
    "        v[0] for v in cursor.fetchall()\n",
    "        if v[0] != \"sqlite_sequence\"\n",
    "    ]\n",
    "    cursor.close()\n",
    "    return tables\n",
    "    \n",
    "tabs = tables_in_sqlite_db(conn)\n",
    "print(tabs)\n"
   ]
  },
  {
   "cell_type": "code",
   "execution_count": 3,
   "metadata": {},
   "outputs": [
    {
     "output_type": "stream",
     "name": "stdout",
     "text": [
      "['Person_ID', 'Nachname', 'Vorname', 'Geburtstag', 'Geburtsort', 'Geburtsland', 'Adresse']\n"
     ]
    }
   ],
   "source": [
    "conn.row_factory = sqlite3.Row\n",
    "cursor = conn.execute('SELECT * FROM Person')\n",
    "# instead of cursor.description:\n",
    "row = cursor.fetchone()\n",
    "names = row.keys()\n",
    "print(names)\n"
   ]
  },
  {
   "cell_type": "code",
   "execution_count": 4,
   "metadata": {},
   "outputs": [
    {
     "output_type": "stream",
     "name": "stdout",
     "text": [
      "['Adresse_ID', 'Land', 'Code', 'Ort', 'Strasse', 'Hausnummer']\n"
     ]
    }
   ],
   "source": [
    "conn.row_factory = sqlite3.Row\n",
    "cursor = conn.execute('SELECT * FROM Adresse')\n",
    "# instead of cursor.description:\n",
    "row = cursor.fetchone()\n",
    "names = row.keys()\n",
    "print(names)\n"
   ]
  },
  {
   "cell_type": "code",
   "execution_count": 5,
   "metadata": {},
   "outputs": [
    {
     "output_type": "stream",
     "name": "stdout",
     "text": [
      "[('Anton',), ('Franz',), ('Frank',), ('Christine',), ('Christoph',), ('Anne',), ('Stephan',), ('Stefan',), ('Friederike',), ('Karl',), ('Heinz',), ('Heinrich',)]\n"
     ]
    }
   ],
   "source": [
    "cur.execute(\"\"\"SELECT * FROM Vorname\"\"\")\n",
    "vornamen = cur.fetchall()\n",
    "print(vornamen)\n"
   ]
  },
  {
   "cell_type": "code",
   "execution_count": 6,
   "metadata": {},
   "outputs": [
    {
     "output_type": "stream",
     "name": "stdout",
     "text": [
      "[('Muster',), ('Foerster',), ('Mayer',), ('Beckmann',), ('Mueller',), ('Becker',), ('Baumann',), ('Schaefer',), ('Koehler',), ('Metzger',)]\n"
     ]
    }
   ],
   "source": [
    "cur.execute(\"\"\"SELECT * FROM Nachname\"\"\")\n",
    "nachnamen = cur.fetchall()\n",
    "print(nachnamen)\n"
   ]
  },
  {
   "cell_type": "code",
   "execution_count": 7,
   "metadata": {},
   "outputs": [
    {
     "output_type": "stream",
     "name": "stdout",
     "text": [
      "[('Germany',), ('England',), ('France',), ('China',), ('USA',), ('Canada',), ('Russland',), ('Indien',), ('Brasilien',)]\n"
     ]
    }
   ],
   "source": [
    "cur.execute(\"\"\"SELECT * FROM Land\"\"\")\n",
    "laender = cur.fetchall()\n",
    "print(laender)\n"
   ]
  },
  {
   "cell_type": "code",
   "execution_count": 8,
   "metadata": {},
   "outputs": [
    {
     "output_type": "stream",
     "name": "stdout",
     "text": [
      "[('Neustadt',), ('New York',), ('Muenchen',), ('Hamburg',), ('Frankfurt',), ('Tokyo',), ('Moskau',), ('San Francisco',), ('Vancover',), ('Sydney',)]\n"
     ]
    }
   ],
   "source": [
    "cur.execute(\"\"\"SELECT * FROM Ort\"\"\")\n",
    "orte = cur.fetchall()\n",
    "print(orte)\n"
   ]
  },
  {
   "cell_type": "code",
   "execution_count": 9,
   "metadata": {},
   "outputs": [
    {
     "output_type": "stream",
     "name": "stdout",
     "text": [
      "[('1955-03-12',), ('1955-11-21',), ('1957-07-06',), ('1984-09-28',), ('1987-02-25',), ('1990-07-05',), ('1991-10-13',), ('1992-07-02',), ('1993-01-01',), ('1994-10-10',)]\n"
     ]
    }
   ],
   "source": [
    "cur.execute(\"\"\"SELECT * FROM Datum\"\"\")\n",
    "daten = cur.fetchall()\n",
    "print(daten)\n"
   ]
  },
  {
   "cell_type": "code",
   "execution_count": 10,
   "metadata": {},
   "outputs": [
    {
     "output_type": "stream",
     "name": "stdout",
     "text": [
      "[('Broadway',), ('Kudamm',), ('Muenchener Strasse',), ('Berliner Strasse',), ('Uferstrasse',), ('Hauptstrasse',), ('Untere Starsse',), ('Bahnhof Strasse',), ('Poststrasse',), ('Highway',)]\n"
     ]
    }
   ],
   "source": [
    "cur.execute(\"\"\"SELECT * FROM Strasse\"\"\")\n",
    "strassen = cur.fetchall()\n",
    "print(strassen)\n"
   ]
  },
  {
   "cell_type": "code",
   "execution_count": 11,
   "metadata": {},
   "outputs": [
    {
     "output_type": "stream",
     "name": "stdout",
     "text": [
      "[(1, None), (2, None), (3, None), (11, None), (23, None), (45, 'Hinterhaus'), (56, None), (67, None), (130, None), (145, '3. OG')]\n"
     ]
    }
   ],
   "source": [
    "cur.execute(\"\"\"SELECT * FROM Hausnummer\"\"\")\n",
    "hausnummern = cur.fetchall()\n",
    "print(hausnummern)\n"
   ]
  },
  {
   "cell_type": "code",
   "execution_count": 12,
   "metadata": {
    "tags": []
   },
   "outputs": [],
   "source": [
    "# cur.execute(\"\"\"SELECT * FROM Adresse\"\"\")\n",
    "# adressen = cur.fetchall()\n",
    "# print(adressen)\n"
   ]
  },
  {
   "cell_type": "code",
   "execution_count": 13,
   "metadata": {},
   "outputs": [],
   "source": [
    "# print(type(adressen))\n",
    "# print(type(adressen[0]))\n"
   ]
  },
  {
   "source": [
    "## Fülle Adressen ##\n"
   ],
   "cell_type": "markdown",
   "metadata": {}
  },
  {
   "cell_type": "code",
   "execution_count": 14,
   "metadata": {},
   "outputs": [
    {
     "output_type": "stream",
     "name": "stdout",
     "text": [
      "num_adressen: 100000\nnum_laender: 9\nnum_orte: 10\nnum_strassen: 10\nnum_hausnr: 10\n"
     ]
    }
   ],
   "source": [
    "num_adressen = 100_000\n",
    "print('num_adressen:', num_adressen)\n",
    "num_laender = len(laender)\n",
    "print('num_laender:', num_laender)\n",
    "num_orte = len(orte)\n",
    "print('num_orte:', num_orte)\n",
    "num_strassen = len(strassen)\n",
    "print('num_strassen:', num_strassen)\n",
    "num_hausnr = len(hausnummern)\n",
    "print('num_hausnr:', num_hausnr)\n"
   ]
  },
  {
   "cell_type": "code",
   "execution_count": 15,
   "metadata": {},
   "outputs": [],
   "source": [
    "def create_Adresse():\n",
    "    land = laender[int(np.random.uniform() * num_laender - 0.5)]\n",
    "    code = int(np.random.uniform() * 100_000 - 0.5)\n",
    "    ort = orte[int(np.random.uniform() * num_orte - 0.5)]\n",
    "    strasse = strassen[int(np.random.uniform() * num_strassen - 0.5)]\n",
    "    hausnr = hausnummern[int(np.random.uniform() * num_hausnr - 0.5)]\n",
    "    adresse = (str(land[0]), code, str(ort[0]), str(strasse[0]), int(hausnr[0]))\n",
    "    return adresse\n"
   ]
  },
  {
   "cell_type": "code",
   "execution_count": 16,
   "metadata": {},
   "outputs": [
    {
     "output_type": "stream",
     "name": "stdout",
     "text": [
      "('France', 45566, 'Frankfurt', 'Poststrasse', 11)\n"
     ]
    }
   ],
   "source": [
    "a = create_Adresse()\n",
    "print(a)\n"
   ]
  },
  {
   "cell_type": "code",
   "execution_count": 17,
   "metadata": {},
   "outputs": [],
   "source": [
    "# for i in range(num_adressen):\n",
    "#     adr = create_Adresse()\n",
    "#     insert = \"\"\"INSERT INTO Adresse\n",
    "#         (Land, Code, Ort, Strasse, Hausnummer)\n",
    "#         VALUES\n",
    "#         (?, ?, ?, ?, ?);\"\"\"\n",
    "#     cur.execute(insert, adr)\n"
   ]
  },
  {
   "source": [
    "## Fülle die Person Tabelle ##\n"
   ],
   "cell_type": "markdown",
   "metadata": {}
  },
  {
   "cell_type": "code",
   "execution_count": 18,
   "metadata": {},
   "outputs": [
    {
     "output_type": "stream",
     "name": "stdout",
     "text": [
      "num_personen: 10000000\nnum_nachname: 10\nnum_vorname: 12\nnum_geburtstag: 10\nnum_geburtsort: 10\nnum_geburtsland: 9\n"
     ]
    }
   ],
   "source": [
    "num_personen = 10_000_000\n",
    "print('num_personen:', num_personen)\n",
    "num_nachname = len(nachnamen)\n",
    "print('num_nachname:', num_nachname)\n",
    "num_vorname = len(vornamen)\n",
    "print('num_vorname:', num_vorname)\n",
    "num_geburtstag = len(daten)\n",
    "print('num_geburtstag:', num_geburtstag)\n",
    "num_geburtsort = len(orte)\n",
    "print('num_geburtsort:', num_geburtsort)\n",
    "num_geburtsland = len(laender)\n",
    "print('num_geburtsland:', num_geburtsland)\n"
   ]
  },
  {
   "cell_type": "code",
   "execution_count": 19,
   "metadata": {},
   "outputs": [],
   "source": [
    "def create_Person():\n",
    "    nachname = nachnamen[int(np.random.uniform() * num_nachname - 0.5)]\n",
    "    vorname = vornamen[int(np.random.uniform() * num_vorname - 0.5)]\n",
    "    geburtstag = daten[int(np.random.uniform() * num_geburtstag - 0.5)]\n",
    "    geburtsort = orte[int(np.random.uniform() * num_geburtsort - 0.5)]\n",
    "    geburtsland = laender[int(np.random.uniform() * num_laender - 0.5)]\n",
    "    adresse = int(np.random.uniform() * 100_000 - 0.5)\n",
    "    person = (str(nachname[0]), str(vorname[0]), str(geburtstag[0]), str(geburtsort[0]), str(geburtsland[0]), adresse)\n",
    "    return person\n"
   ]
  },
  {
   "cell_type": "code",
   "execution_count": 20,
   "metadata": {},
   "outputs": [
    {
     "output_type": "stream",
     "name": "stdout",
     "text": [
      "('Metzger', 'Heinrich', '1955-11-21', 'Vancover', 'USA', 40255)\n"
     ]
    }
   ],
   "source": [
    "pers = create_Person()\n",
    "print(pers)\n"
   ]
  },
  {
   "cell_type": "code",
   "execution_count": 21,
   "metadata": {},
   "outputs": [],
   "source": [
    "# for i in range(num_personen):\n",
    "#     pers = create_Person()\n",
    "#     insert = \"\"\"INSERT INTO Person\n",
    "#         (Nachname, Vorname, Geburtstag, Geburtsort, Geburtsland, Adresse)\n",
    "#         VALUES\n",
    "#         (?, ?, ?, ?, ?, ?);\"\"\"\n",
    "#     cur.execute(insert, pers)\n"
   ]
  },
  {
   "cell_type": "code",
   "execution_count": 22,
   "metadata": {},
   "outputs": [
    {
     "output_type": "stream",
     "name": "stdout",
     "text": [
      "10000003\n"
     ]
    }
   ],
   "source": [
    "cur.execute(\"SELECT COUNT(*) FROM Person\")\n",
    "num_person3 = cur.fetchall()\n",
    "num_pers3 = num_person3[0][0]\n",
    "print(num_person3[0][0])\n"
   ]
  },
  {
   "cell_type": "code",
   "execution_count": 23,
   "metadata": {
    "tags": []
   },
   "outputs": [
    {
     "output_type": "stream",
     "name": "stdout",
     "text": [
      "['Person_ID', 'Nachname', 'Vorname', 'Geburtstag', 'Geburtsort', 'Geburtsland', 'Adresse']\n\n['Adresse_ID', 'Land', 'Code', 'Ort', 'Strasse', 'Hausnummer']\n\n[(1, 'Metzger', 'Frank', '1990-07-05', 'Neustadt', 'Russland', 47)]\n47\n\nselect: SELECT * FROM Adresse WHERE Adresse_ID = 47\n(47, 'Brasilien', 744, 'Moskau', 'Bahnhof Strasse', 2)\n"
     ]
    }
   ],
   "source": [
    "c = conn.execute(\"SELECT * FROM Person WHERE Person_ID = 1\")\n",
    "row = c.fetchone()\n",
    "names = row.keys()\n",
    "print(names)\n",
    "\n",
    "print()\n",
    "c = conn.execute(\"SELECT * FROM Adresse WHERE Adresse_ID = 1\")\n",
    "row = c.fetchone()\n",
    "names = row.keys()\n",
    "print(names)\n",
    "\n",
    "print()\n",
    "cur.execute(\"SELECT * FROM Person WHERE Person_ID = 1\")\n",
    "head = cur.fetchall()\n",
    "print(head)\n",
    "print(head[0][6])\n",
    "\n",
    "print()\n",
    "select = 'SELECT * FROM Adresse WHERE Adresse_ID = ' + str(head[0][6])\n",
    "print('select:', select)\n",
    "cur.execute(select)\n",
    "row = cur.fetchone()\n",
    "print(row)\n"
   ]
  },
  {
   "cell_type": "code",
   "execution_count": 24,
   "metadata": {},
   "outputs": [
    {
     "output_type": "stream",
     "name": "stdout",
     "text": [
      "(1, 'Metzger', 'Frank', '1990-07-05', 'Neustadt', 'Russland', 47)\n(47, 'Brasilien', 744, 'Moskau', 'Bahnhof Strasse', 2)\n\n('Metzger', 'Frank', '1990-07-05', 'Neustadt', 'Russland')\n('Brasilien', 744, 'Moskau', 'Bahnhof Strasse', 2)\n\n('Metzger', 'Frank', '1990-07-05', 'Neustadt', 'Russland', 'Brasilien', 744, 'Moskau', 'Bahnhof Strasse', 2)\n"
     ]
    }
   ],
   "source": [
    "pers2 = head[0]\n",
    "print(pers2)\n",
    "\n",
    "adr2 = row\n",
    "print(adr2)\n",
    "\n",
    "print()\n",
    "pers2 = head[0]\n",
    "print(pers2[1:-1])\n",
    "\n",
    "adr2 = row\n",
    "print(adr2[1:])\n",
    "\n",
    "print()\n",
    "pers3 = pers2[1:-1] + adr2[1:]\n",
    "print(pers3)\n"
   ]
  },
  {
   "cell_type": "code",
   "execution_count": 25,
   "metadata": {},
   "outputs": [],
   "source": [
    "conn2 = sqlite3.connect('NF1.db')\n",
    "cur2 = conn2.cursor()\n"
   ]
  },
  {
   "cell_type": "code",
   "execution_count": 26,
   "metadata": {},
   "outputs": [],
   "source": [
    "# create = \"\"\"CREATE TABLE \"Person\" (\n",
    "# \t\"Person_ID\"\tINTEGER,\n",
    "# \t\"Nachname\"\tTEXT NOT NULL,\n",
    "# \t\"Vorname\"\tTEXT NOT NULL,\n",
    "# \t\"Geburtstag\"\tTEXT NOT NULL,\n",
    "# \t\"Geburtsort\"\tTEXT NOT NULL,\n",
    "# \t\"Geburtsland\"\tTEXT NOT NULL,\n",
    "# \t\"Land\"\tTEXT NOT NULL,\n",
    "# \t\"Code\"\tTEXT NOT NULL,\n",
    "# \t\"Ort\"\tTEXT NOT NULL,\n",
    "# \t\"Strasse\"\tTEXT NOT NULL,\n",
    "# \t\"Hausnummer\"\tTEXT NOT NULL,\n",
    "# \tPRIMARY KEY(\"Person_ID\")\n",
    "# )\"\"\"\n",
    "\n",
    "# cur2.execute(create)\n"
   ]
  },
  {
   "cell_type": "code",
   "execution_count": 27,
   "metadata": {},
   "outputs": [
    {
     "output_type": "display_data",
     "data": {
      "text/plain": "IntProgress(value=0, description='Berechne:', style=ProgressStyle(bar_color='lightgreen'))",
      "application/vnd.jupyter.widget-view+json": {
       "version_major": 2,
       "version_minor": 0,
       "model_id": "1024f67eb360426aa52f5f56125d9f9d"
      }
     },
     "metadata": {}
    },
    {
     "output_type": "display_data",
     "data": {
      "text/plain": "FloatText(value=0.0)",
      "application/vnd.jupyter.widget-view+json": {
       "version_major": 2,
       "version_minor": 0,
       "model_id": "340cfedb3e1042a6bff5c36f126379f7"
      }
     },
     "metadata": {}
    }
   ],
   "source": [
    "# zum Zurücksetzen Zelle ausführen\n",
    "\n",
    "perf = widgets.IntProgress(\n",
    "    value=0,\n",
    "    min=0,\n",
    "    max=100,\n",
    "    description='Berechne:',\n",
    "    bar_style='', # 'success', 'info', 'warning', 'danger' or ''\n",
    "    style={'bar_color': 'lightgreen'},\n",
    "    orientation='horizontal')\n",
    "act = widgets.FloatText()\n",
    "act.value = '0'\n",
    "display(perf, act)\n"
   ]
  },
  {
   "cell_type": "code",
   "execution_count": 28,
   "metadata": {},
   "outputs": [
    {
     "output_type": "display_data",
     "data": {
      "text/plain": "IntProgress(value=0, description='Berechne:', style=ProgressStyle(bar_color='lightgreen'))",
      "application/vnd.jupyter.widget-view+json": {
       "version_major": 2,
       "version_minor": 0,
       "model_id": "1024f67eb360426aa52f5f56125d9f9d"
      }
     },
     "metadata": {}
    },
    {
     "output_type": "display_data",
     "data": {
      "text/plain": "FloatText(value=0.0)",
      "application/vnd.jupyter.widget-view+json": {
       "version_major": 2,
       "version_minor": 0,
       "model_id": "340cfedb3e1042a6bff5c36f126379f7"
      }
     },
     "metadata": {}
    }
   ],
   "source": [
    "# filling the flat table\n",
    "perf.value = 0\n",
    "act.value = 0\n",
    "display(perf, act)\n",
    "t0 = time.perf_counter()\n",
    "\n",
    "for i in range(num_pers3):\n",
    "# for i in range(3):\n",
    "    count = 0\n",
    "    if (0 == i % 100_000):\n",
    "        perf.value += 1\n",
    "        act.value += 1\n",
    "\n",
    "    # print(i)\n",
    "    # select Person\n",
    "    sp = 'SELECT * FROM Person WHERE Person_ID = ' + str(i+1)\n",
    "    cur.execute(sp)\n",
    "    p = cur.fetchone()\n",
    "    # print(p)\n",
    "\n",
    "    # add Adresse\n",
    "    if (0 == p[6]):\n",
    "        print(p[6])\n",
    "        p[6] += 1\n",
    "    sa = 'SELECT * FROM Adresse WHERE Adresse_ID = ' + str(p[6])\n",
    "    cur.execute(sa)\n",
    "    a = cur.fetchone()\n",
    "    # print(a)\n",
    "\n",
    "    # build Person string\n",
    "    pers = p[1:-1] + a[1:]\n",
    "\n",
    "    # print(pers)\n",
    "\n",
    "    insert = \"\"\"INSERT INTO Person\n",
    "        (Nachname, Vorname, Geburtstag, Geburtsort, Geburtsland, Land, Code, Ort, Strasse, Hausnummer)\n",
    "        VALUES\n",
    "        (?, ?, ?, ?, ?, ?, ?, ?, ?, ?);\"\"\"\n",
    "    cur2.execute(insert, pers)\n",
    "print(\"END: filling the flat table\")\n"
   ]
  },
  {
   "cell_type": "code",
   "execution_count": 31,
   "metadata": {},
   "outputs": [
    {
     "output_type": "error",
     "ename": "ProgrammingError",
     "evalue": "Cannot operate on a closed database.",
     "traceback": [
      "\u001b[1;31m---------------------------------------------------------------------------\u001b[0m",
      "\u001b[1;31mProgrammingError\u001b[0m                          Traceback (most recent call last)",
      "\u001b[1;32m<ipython-input-31-b337fac98699>\u001b[0m in \u001b[0;36m<module>\u001b[1;34m\u001b[0m\n\u001b[1;32m----> 1\u001b[1;33m \u001b[0mconn\u001b[0m\u001b[1;33m.\u001b[0m\u001b[0mcommit\u001b[0m\u001b[1;33m(\u001b[0m\u001b[1;33m)\u001b[0m\u001b[1;33m\u001b[0m\u001b[1;33m\u001b[0m\u001b[0m\n\u001b[0m\u001b[0;32m      2\u001b[0m \u001b[0mconn\u001b[0m\u001b[1;33m.\u001b[0m\u001b[0mclose\u001b[0m\u001b[1;33m(\u001b[0m\u001b[1;33m)\u001b[0m\u001b[1;33m\u001b[0m\u001b[1;33m\u001b[0m\u001b[0m\n",
      "\u001b[1;31mProgrammingError\u001b[0m: Cannot operate on a closed database."
     ]
    }
   ],
   "source": [
    "conn.commit()\n",
    "conn.close()\n"
   ]
  },
  {
   "cell_type": "code",
   "execution_count": 32,
   "metadata": {},
   "outputs": [
    {
     "output_type": "error",
     "ename": "ProgrammingError",
     "evalue": "Cannot operate on a closed database.",
     "traceback": [
      "\u001b[1;31m---------------------------------------------------------------------------\u001b[0m",
      "\u001b[1;31mProgrammingError\u001b[0m                          Traceback (most recent call last)",
      "\u001b[1;32m<ipython-input-32-f68a11eb60af>\u001b[0m in \u001b[0;36m<module>\u001b[1;34m\u001b[0m\n\u001b[1;32m----> 1\u001b[1;33m \u001b[0mconn2\u001b[0m\u001b[1;33m.\u001b[0m\u001b[0mcommit\u001b[0m\u001b[1;33m(\u001b[0m\u001b[1;33m)\u001b[0m\u001b[1;33m\u001b[0m\u001b[1;33m\u001b[0m\u001b[0m\n\u001b[0m\u001b[0;32m      2\u001b[0m \u001b[0mconn2\u001b[0m\u001b[1;33m.\u001b[0m\u001b[0mclose\u001b[0m\u001b[1;33m(\u001b[0m\u001b[1;33m)\u001b[0m\u001b[1;33m\u001b[0m\u001b[1;33m\u001b[0m\u001b[0m\n",
      "\u001b[1;31mProgrammingError\u001b[0m: Cannot operate on a closed database."
     ]
    }
   ],
   "source": [
    "conn2.commit()\n",
    "conn2.close()\n"
   ]
  },
  {
   "cell_type": "code",
   "execution_count": 35,
   "metadata": {},
   "outputs": [
    {
     "output_type": "stream",
     "name": "stdout",
     "text": [
      "1692600\n7470446500\n"
     ]
    }
   ],
   "source": [
    "conn = sqlite3.connect('Normalform3.db')\n",
    "cur = conn.cursor()\n",
    "t0 = time.perf_counter_ns()\n",
    "cur.execute(\"SELECT * FROM Person WHERE Person.Vorname ='Frank'\")\n",
    "t1 = time.perf_counter_ns()\n",
    "franks = cur.fetchall()\n",
    "t2 = time.perf_counter_ns()\n",
    "\n",
    "print(t1 - t0)\n",
    "print(t2 - t1)\n"
   ]
  },
  {
   "cell_type": "code",
   "execution_count": 36,
   "metadata": {},
   "outputs": [
    {
     "output_type": "stream",
     "name": "stdout",
     "text": [
      "578100\n8023011500\n"
     ]
    }
   ],
   "source": [
    "conn2 = sqlite3.connect('NF1.db')\n",
    "cur2 = conn.cursor()\n",
    "t0 = time.perf_counter_ns()\n",
    "cur.execute(\"SELECT * FROM Person WHERE Person.Vorname ='Frank'\")\n",
    "t1 = time.perf_counter_ns()\n",
    "franks = cur.fetchall()\n",
    "t2 = time.perf_counter_ns()\n",
    "\n",
    "print(t1 - t0)\n",
    "print(t2 - t1)\n"
   ]
  },
  {
   "cell_type": "code",
   "execution_count": 37,
   "metadata": {},
   "outputs": [
    {
     "output_type": "stream",
     "name": "stdout",
     "text": [
      "1041900\n9315446800\n"
     ]
    }
   ],
   "source": [
    "cur = conn.cursor()\n",
    "t0 = time.perf_counter_ns()\n",
    "cur.execute(\"SELECT * FROM Person WHERE Person.Geburtstag ='1990-07-05'\")\n",
    "t1 = time.perf_counter_ns()\n",
    "franks = cur.fetchall()\n",
    "t2 = time.perf_counter_ns()\n",
    "\n",
    "print(t1 - t0)\n",
    "print(t2 - t1)\n"
   ]
  },
  {
   "cell_type": "code",
   "execution_count": 38,
   "metadata": {},
   "outputs": [
    {
     "output_type": "stream",
     "name": "stdout",
     "text": [
      "621800\n6847093600\n"
     ]
    }
   ],
   "source": [
    "conn2 = sqlite3.connect('NF1.db')\n",
    "cur2 = conn.cursor()\n",
    "t0 = time.perf_counter_ns()\n",
    "cur.execute(\"SELECT * FROM Person WHERE Person.Geburtstag ='1990-07-05'\")\n",
    "t1 = time.perf_counter_ns()\n",
    "franks = cur.fetchall()\n",
    "t2 = time.perf_counter_ns()\n",
    "\n",
    "print(t1 - t0)\n",
    "print(t2 - t1)\n"
   ]
  },
  {
   "cell_type": "code",
   "execution_count": null,
   "metadata": {},
   "outputs": [],
   "source": []
  }
 ]
}